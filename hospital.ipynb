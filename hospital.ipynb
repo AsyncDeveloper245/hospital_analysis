{
 "cells": [
  {
   "cell_type": "code",
   "execution_count": 105,
   "metadata": {},
   "outputs": [],
   "source": [
    "import matplotlib.pyplot as plt\n",
    "import pandas as pd\n",
    "import numpy as np"
   ]
  },
  {
   "cell_type": "code",
   "execution_count": 106,
   "metadata": {},
   "outputs": [
    {
     "data": {
      "text/html": [
       "<div>\n",
       "<style scoped>\n",
       "    .dataframe tbody tr th:only-of-type {\n",
       "        vertical-align: middle;\n",
       "    }\n",
       "\n",
       "    .dataframe tbody tr th {\n",
       "        vertical-align: top;\n",
       "    }\n",
       "\n",
       "    .dataframe thead th {\n",
       "        text-align: right;\n",
       "    }\n",
       "</style>\n",
       "<table border=\"1\" class=\"dataframe\">\n",
       "  <thead>\n",
       "    <tr style=\"text-align: right;\">\n",
       "      <th></th>\n",
       "      <th>Date</th>\n",
       "      <th>Medication Revenue</th>\n",
       "      <th>Lab Cost</th>\n",
       "      <th>Consultation Revenue</th>\n",
       "      <th>Doctor Type</th>\n",
       "      <th>Financial Class</th>\n",
       "      <th>Patient Type</th>\n",
       "      <th>Entry Time</th>\n",
       "      <th>Post-Consultation Time</th>\n",
       "      <th>Completion Time</th>\n",
       "      <th>Doctor</th>\n",
       "      <th>Patient ID</th>\n",
       "    </tr>\n",
       "  </thead>\n",
       "  <tbody>\n",
       "    <tr>\n",
       "      <th>0</th>\n",
       "      <td>11/4/2019 0:00</td>\n",
       "      <td>$1,183.22</td>\n",
       "      <td>$10.00</td>\n",
       "      <td>$20.17</td>\n",
       "      <td>ANCHOR</td>\n",
       "      <td>HMO</td>\n",
       "      <td>OUTPATIENT</td>\n",
       "      <td>8:35:45</td>\n",
       "      <td>9:17:54</td>\n",
       "      <td>9:29:46</td>\n",
       "      <td>DR05350C4</td>\n",
       "      <td>C10001</td>\n",
       "    </tr>\n",
       "    <tr>\n",
       "      <th>1</th>\n",
       "      <td>11/6/2019 0:00</td>\n",
       "      <td>$738.48</td>\n",
       "      <td>$-</td>\n",
       "      <td>$15.00</td>\n",
       "      <td>ANCHOR</td>\n",
       "      <td>INSURANCE</td>\n",
       "      <td>OUTPATIENT</td>\n",
       "      <td>19:19:16</td>\n",
       "      <td>21:02:36</td>\n",
       "      <td>21:24:07</td>\n",
       "      <td>DR09451Z4</td>\n",
       "      <td>C10002</td>\n",
       "    </tr>\n",
       "    <tr>\n",
       "      <th>2</th>\n",
       "      <td>11/2/2019 0:00</td>\n",
       "      <td>$660.00</td>\n",
       "      <td>$-</td>\n",
       "      <td>$21.17</td>\n",
       "      <td>ANCHOR</td>\n",
       "      <td>HMO</td>\n",
       "      <td>OUTPATIENT</td>\n",
       "      <td>10:46:52</td>\n",
       "      <td>11:56:25</td>\n",
       "      <td>12:06:28</td>\n",
       "      <td>DR17400I4</td>\n",
       "      <td>C10003</td>\n",
       "    </tr>\n",
       "    <tr>\n",
       "      <th>3</th>\n",
       "      <td>11/6/2019 0:00</td>\n",
       "      <td>$600.00</td>\n",
       "      <td>$-</td>\n",
       "      <td>$-</td>\n",
       "      <td>ANCHOR</td>\n",
       "      <td>MEDICARE</td>\n",
       "      <td>OUTPATIENT</td>\n",
       "      <td>9:38:34</td>\n",
       "      <td>10:55:50</td>\n",
       "      <td>10:58:02</td>\n",
       "      <td>DR09451Z4</td>\n",
       "      <td>C10004</td>\n",
       "    </tr>\n",
       "    <tr>\n",
       "      <th>4</th>\n",
       "      <td>11/1/2019 0:00</td>\n",
       "      <td>$591.60</td>\n",
       "      <td>$-</td>\n",
       "      <td>$12.00</td>\n",
       "      <td>ANCHOR</td>\n",
       "      <td>INSURANCE</td>\n",
       "      <td>OUTPATIENT</td>\n",
       "      <td>11:16:21</td>\n",
       "      <td>12:06:49</td>\n",
       "      <td>12:06:54</td>\n",
       "      <td>DR15154H4</td>\n",
       "      <td>C10005</td>\n",
       "    </tr>\n",
       "  </tbody>\n",
       "</table>\n",
       "</div>"
      ],
      "text/plain": [
       "             Date  Medication Revenue    Lab Cost   Consultation Revenue   \\\n",
       "0  11/4/2019 0:00           $1,183.22      $10.00                 $20.17    \n",
       "1  11/6/2019 0:00             $738.48        $-                   $15.00    \n",
       "2  11/2/2019 0:00             $660.00        $-                   $21.17    \n",
       "3  11/6/2019 0:00             $600.00        $-                     $-      \n",
       "4  11/1/2019 0:00             $591.60        $-                   $12.00    \n",
       "\n",
       "  Doctor Type Financial Class Patient Type Entry Time Post-Consultation Time  \\\n",
       "0      ANCHOR             HMO   OUTPATIENT    8:35:45                9:17:54   \n",
       "1      ANCHOR       INSURANCE   OUTPATIENT   19:19:16               21:02:36   \n",
       "2      ANCHOR             HMO   OUTPATIENT   10:46:52               11:56:25   \n",
       "3      ANCHOR        MEDICARE   OUTPATIENT    9:38:34               10:55:50   \n",
       "4      ANCHOR       INSURANCE   OUTPATIENT   11:16:21               12:06:49   \n",
       "\n",
       "  Completion Time     Doctor Patient ID  \n",
       "0         9:29:46  DR05350C4     C10001  \n",
       "1        21:24:07  DR09451Z4     C10002  \n",
       "2        12:06:28  DR17400I4     C10003  \n",
       "3        10:58:02  DR09451Z4     C10004  \n",
       "4        12:06:54  DR15154H4     C10005  "
      ]
     },
     "execution_count": 106,
     "metadata": {},
     "output_type": "execute_result"
    }
   ],
   "source": [
    "df = pd.read_csv('hospital_data.csv')\n",
    "df.head()"
   ]
  },
  {
   "cell_type": "code",
   "execution_count": 107,
   "metadata": {},
   "outputs": [],
   "source": [
    "#df.dtypes"
   ]
  },
  {
   "cell_type": "code",
   "execution_count": 108,
   "metadata": {},
   "outputs": [],
   "source": [
    "df['Date'] = pd.to_datetime(df['Date'])"
   ]
  },
  {
   "cell_type": "code",
   "execution_count": 109,
   "metadata": {},
   "outputs": [],
   "source": [
    "#df.dtypes"
   ]
  },
  {
   "cell_type": "code",
   "execution_count": 110,
   "metadata": {},
   "outputs": [
    {
     "data": {
      "text/plain": [
       "Index(['Date', ' Medication Revenue ', '  Lab Cost ', ' Consultation Revenue ',\n",
       "       'Doctor Type', 'Financial Class', 'Patient Type', 'Entry Time',\n",
       "       'Post-Consultation Time', 'Completion Time', 'Doctor', 'Patient ID'],\n",
       "      dtype='object')"
      ]
     },
     "execution_count": 110,
     "metadata": {},
     "output_type": "execute_result"
    }
   ],
   "source": [
    "df.columns"
   ]
  },
  {
   "cell_type": "code",
   "execution_count": 111,
   "metadata": {},
   "outputs": [],
   "source": [
    "df.columns = df.columns.str.strip()"
   ]
  },
  {
   "cell_type": "code",
   "execution_count": 112,
   "metadata": {},
   "outputs": [
    {
     "data": {
      "text/plain": [
       "Index(['Date', 'Medication Revenue', 'Lab Cost', 'Consultation Revenue',\n",
       "       'Doctor Type', 'Financial Class', 'Patient Type', 'Entry Time',\n",
       "       'Post-Consultation Time', 'Completion Time', 'Doctor', 'Patient ID'],\n",
       "      dtype='object')"
      ]
     },
     "execution_count": 112,
     "metadata": {},
     "output_type": "execute_result"
    }
   ],
   "source": [
    "df.columns"
   ]
  },
  {
   "cell_type": "code",
   "execution_count": 113,
   "metadata": {},
   "outputs": [],
   "source": [
    "df['Entry Time'] = pd.to_datetime(df['Entry Time'])\n",
    "df['Post-Consultation Time'] = pd.to_datetime(df['Post-Consultation Time'])\n",
    "df['Completion Time'] = pd.to_datetime(df['Completion Time'])"
   ]
  },
  {
   "cell_type": "code",
   "execution_count": 114,
   "metadata": {},
   "outputs": [
    {
     "data": {
      "text/plain": [
       "Date                      datetime64[ns]\n",
       "Medication Revenue                object\n",
       "Lab Cost                          object\n",
       "Consultation Revenue              object\n",
       "Doctor Type                       object\n",
       "Financial Class                   object\n",
       "Patient Type                      object\n",
       "Entry Time                datetime64[ns]\n",
       "Post-Consultation Time    datetime64[ns]\n",
       "Completion Time           datetime64[ns]\n",
       "Doctor                            object\n",
       "Patient ID                        object\n",
       "dtype: object"
      ]
     },
     "execution_count": 114,
     "metadata": {},
     "output_type": "execute_result"
    }
   ],
   "source": [
    "df.dtypes"
   ]
  },
  {
   "cell_type": "code",
   "execution_count": 115,
   "metadata": {},
   "outputs": [],
   "source": [
    "def clean_digits(values):\n",
    "    values = values.replace('$','')\n",
    "    values = values.replace(',','')\n",
    "    values = values.replace('-','')\n",
    "    values = values.replace(' ','')\n",
    "    values = pd.to_numeric(values)\n",
    "    return values"
   ]
  },
  {
   "cell_type": "code",
   "execution_count": 116,
   "metadata": {},
   "outputs": [
    {
     "data": {
      "text/plain": [
       "Date                      datetime64[ns]\n",
       "Medication Revenue                object\n",
       "Lab Cost                          object\n",
       "Consultation Revenue              object\n",
       "Doctor Type                       object\n",
       "Financial Class                   object\n",
       "Patient Type                      object\n",
       "Entry Time                datetime64[ns]\n",
       "Post-Consultation Time    datetime64[ns]\n",
       "Completion Time           datetime64[ns]\n",
       "Doctor                            object\n",
       "Patient ID                        object\n",
       "dtype: object"
      ]
     },
     "execution_count": 116,
     "metadata": {},
     "output_type": "execute_result"
    }
   ],
   "source": [
    "df.head()\n",
    "df.dtypes"
   ]
  },
  {
   "cell_type": "code",
   "execution_count": 117,
   "metadata": {},
   "outputs": [
    {
     "data": {
      "text/html": [
       "<div>\n",
       "<style scoped>\n",
       "    .dataframe tbody tr th:only-of-type {\n",
       "        vertical-align: middle;\n",
       "    }\n",
       "\n",
       "    .dataframe tbody tr th {\n",
       "        vertical-align: top;\n",
       "    }\n",
       "\n",
       "    .dataframe thead th {\n",
       "        text-align: right;\n",
       "    }\n",
       "</style>\n",
       "<table border=\"1\" class=\"dataframe\">\n",
       "  <thead>\n",
       "    <tr style=\"text-align: right;\">\n",
       "      <th></th>\n",
       "      <th>Date</th>\n",
       "      <th>Medication Revenue</th>\n",
       "      <th>Lab Cost</th>\n",
       "      <th>Consultation Revenue</th>\n",
       "      <th>Doctor Type</th>\n",
       "      <th>Financial Class</th>\n",
       "      <th>Patient Type</th>\n",
       "      <th>Entry Time</th>\n",
       "      <th>Post-Consultation Time</th>\n",
       "      <th>Completion Time</th>\n",
       "      <th>Doctor</th>\n",
       "      <th>Patient ID</th>\n",
       "    </tr>\n",
       "  </thead>\n",
       "  <tbody>\n",
       "    <tr>\n",
       "      <th>0</th>\n",
       "      <td>2019-11-04</td>\n",
       "      <td>1183.22</td>\n",
       "      <td>$10.00</td>\n",
       "      <td>$20.17</td>\n",
       "      <td>ANCHOR</td>\n",
       "      <td>HMO</td>\n",
       "      <td>OUTPATIENT</td>\n",
       "      <td>2021-03-19 08:35:45</td>\n",
       "      <td>2021-03-19 09:17:54</td>\n",
       "      <td>2021-03-19 09:29:46</td>\n",
       "      <td>DR05350C4</td>\n",
       "      <td>C10001</td>\n",
       "    </tr>\n",
       "    <tr>\n",
       "      <th>1</th>\n",
       "      <td>2019-11-06</td>\n",
       "      <td>738.48</td>\n",
       "      <td>$-</td>\n",
       "      <td>$15.00</td>\n",
       "      <td>ANCHOR</td>\n",
       "      <td>INSURANCE</td>\n",
       "      <td>OUTPATIENT</td>\n",
       "      <td>2021-03-19 19:19:16</td>\n",
       "      <td>2021-03-19 21:02:36</td>\n",
       "      <td>2021-03-19 21:24:07</td>\n",
       "      <td>DR09451Z4</td>\n",
       "      <td>C10002</td>\n",
       "    </tr>\n",
       "    <tr>\n",
       "      <th>2</th>\n",
       "      <td>2019-11-02</td>\n",
       "      <td>660.00</td>\n",
       "      <td>$-</td>\n",
       "      <td>$21.17</td>\n",
       "      <td>ANCHOR</td>\n",
       "      <td>HMO</td>\n",
       "      <td>OUTPATIENT</td>\n",
       "      <td>2021-03-19 10:46:52</td>\n",
       "      <td>2021-03-19 11:56:25</td>\n",
       "      <td>2021-03-19 12:06:28</td>\n",
       "      <td>DR17400I4</td>\n",
       "      <td>C10003</td>\n",
       "    </tr>\n",
       "    <tr>\n",
       "      <th>3</th>\n",
       "      <td>2019-11-06</td>\n",
       "      <td>600.00</td>\n",
       "      <td>$-</td>\n",
       "      <td>$-</td>\n",
       "      <td>ANCHOR</td>\n",
       "      <td>MEDICARE</td>\n",
       "      <td>OUTPATIENT</td>\n",
       "      <td>2021-03-19 09:38:34</td>\n",
       "      <td>2021-03-19 10:55:50</td>\n",
       "      <td>2021-03-19 10:58:02</td>\n",
       "      <td>DR09451Z4</td>\n",
       "      <td>C10004</td>\n",
       "    </tr>\n",
       "    <tr>\n",
       "      <th>4</th>\n",
       "      <td>2019-11-01</td>\n",
       "      <td>591.60</td>\n",
       "      <td>$-</td>\n",
       "      <td>$12.00</td>\n",
       "      <td>ANCHOR</td>\n",
       "      <td>INSURANCE</td>\n",
       "      <td>OUTPATIENT</td>\n",
       "      <td>2021-03-19 11:16:21</td>\n",
       "      <td>2021-03-19 12:06:49</td>\n",
       "      <td>2021-03-19 12:06:54</td>\n",
       "      <td>DR15154H4</td>\n",
       "      <td>C10005</td>\n",
       "    </tr>\n",
       "  </tbody>\n",
       "</table>\n",
       "</div>"
      ],
      "text/plain": [
       "        Date  Medication Revenue Lab Cost Consultation Revenue Doctor Type  \\\n",
       "0 2019-11-04             1183.22  $10.00               $20.17       ANCHOR   \n",
       "1 2019-11-06              738.48    $-                 $15.00       ANCHOR   \n",
       "2 2019-11-02              660.00    $-                 $21.17       ANCHOR   \n",
       "3 2019-11-06              600.00    $-                   $-         ANCHOR   \n",
       "4 2019-11-01              591.60    $-                 $12.00       ANCHOR   \n",
       "\n",
       "  Financial Class Patient Type          Entry Time Post-Consultation Time  \\\n",
       "0             HMO   OUTPATIENT 2021-03-19 08:35:45    2021-03-19 09:17:54   \n",
       "1       INSURANCE   OUTPATIENT 2021-03-19 19:19:16    2021-03-19 21:02:36   \n",
       "2             HMO   OUTPATIENT 2021-03-19 10:46:52    2021-03-19 11:56:25   \n",
       "3        MEDICARE   OUTPATIENT 2021-03-19 09:38:34    2021-03-19 10:55:50   \n",
       "4       INSURANCE   OUTPATIENT 2021-03-19 11:16:21    2021-03-19 12:06:49   \n",
       "\n",
       "      Completion Time     Doctor Patient ID  \n",
       "0 2021-03-19 09:29:46  DR05350C4     C10001  \n",
       "1 2021-03-19 21:24:07  DR09451Z4     C10002  \n",
       "2 2021-03-19 12:06:28  DR17400I4     C10003  \n",
       "3 2021-03-19 10:58:02  DR09451Z4     C10004  \n",
       "4 2021-03-19 12:06:54  DR15154H4     C10005  "
      ]
     },
     "execution_count": 117,
     "metadata": {},
     "output_type": "execute_result"
    }
   ],
   "source": [
    "df['Medication Revenue'] = df['Medication Revenue'].apply(clean_digits)\n",
    "df.head()"
   ]
  },
  {
   "cell_type": "code",
   "execution_count": 118,
   "metadata": {},
   "outputs": [],
   "source": [
    "df['Lab Cost'] = df['Lab Cost'].apply(clean_digits)\n",
    "df['Consultation Revenue'] = df['Consultation Revenue'].apply(clean_digits)"
   ]
  },
  {
   "cell_type": "code",
   "execution_count": 119,
   "metadata": {},
   "outputs": [],
   "source": [
    "df.head()\n",
    "df = df.fillna(0)"
   ]
  },
  {
   "cell_type": "code",
   "execution_count": 120,
   "metadata": {},
   "outputs": [],
   "source": [
    "df['Total Revenue'] = df['Medication Revenue'] + df['Lab Cost'] + df['Consultation Revenue']"
   ]
  },
  {
   "cell_type": "code",
   "execution_count": 121,
   "metadata": {},
   "outputs": [
    {
     "data": {
      "text/html": [
       "<div>\n",
       "<style scoped>\n",
       "    .dataframe tbody tr th:only-of-type {\n",
       "        vertical-align: middle;\n",
       "    }\n",
       "\n",
       "    .dataframe tbody tr th {\n",
       "        vertical-align: top;\n",
       "    }\n",
       "\n",
       "    .dataframe thead th {\n",
       "        text-align: right;\n",
       "    }\n",
       "</style>\n",
       "<table border=\"1\" class=\"dataframe\">\n",
       "  <thead>\n",
       "    <tr style=\"text-align: right;\">\n",
       "      <th></th>\n",
       "      <th>Date</th>\n",
       "      <th>Medication Revenue</th>\n",
       "      <th>Lab Cost</th>\n",
       "      <th>Consultation Revenue</th>\n",
       "      <th>Doctor Type</th>\n",
       "      <th>Financial Class</th>\n",
       "      <th>Patient Type</th>\n",
       "      <th>Entry Time</th>\n",
       "      <th>Post-Consultation Time</th>\n",
       "      <th>Completion Time</th>\n",
       "      <th>Doctor</th>\n",
       "      <th>Patient ID</th>\n",
       "      <th>Total Revenue</th>\n",
       "    </tr>\n",
       "  </thead>\n",
       "  <tbody>\n",
       "    <tr>\n",
       "      <th>0</th>\n",
       "      <td>2019-11-04</td>\n",
       "      <td>1183.22</td>\n",
       "      <td>10.0</td>\n",
       "      <td>20.17</td>\n",
       "      <td>ANCHOR</td>\n",
       "      <td>HMO</td>\n",
       "      <td>OUTPATIENT</td>\n",
       "      <td>2021-03-19 08:35:45</td>\n",
       "      <td>2021-03-19 09:17:54</td>\n",
       "      <td>2021-03-19 09:29:46</td>\n",
       "      <td>DR05350C4</td>\n",
       "      <td>C10001</td>\n",
       "      <td>1213.39</td>\n",
       "    </tr>\n",
       "    <tr>\n",
       "      <th>1</th>\n",
       "      <td>2019-11-06</td>\n",
       "      <td>738.48</td>\n",
       "      <td>0.0</td>\n",
       "      <td>15.00</td>\n",
       "      <td>ANCHOR</td>\n",
       "      <td>INSURANCE</td>\n",
       "      <td>OUTPATIENT</td>\n",
       "      <td>2021-03-19 19:19:16</td>\n",
       "      <td>2021-03-19 21:02:36</td>\n",
       "      <td>2021-03-19 21:24:07</td>\n",
       "      <td>DR09451Z4</td>\n",
       "      <td>C10002</td>\n",
       "      <td>753.48</td>\n",
       "    </tr>\n",
       "    <tr>\n",
       "      <th>2</th>\n",
       "      <td>2019-11-02</td>\n",
       "      <td>660.00</td>\n",
       "      <td>0.0</td>\n",
       "      <td>21.17</td>\n",
       "      <td>ANCHOR</td>\n",
       "      <td>HMO</td>\n",
       "      <td>OUTPATIENT</td>\n",
       "      <td>2021-03-19 10:46:52</td>\n",
       "      <td>2021-03-19 11:56:25</td>\n",
       "      <td>2021-03-19 12:06:28</td>\n",
       "      <td>DR17400I4</td>\n",
       "      <td>C10003</td>\n",
       "      <td>681.17</td>\n",
       "    </tr>\n",
       "    <tr>\n",
       "      <th>3</th>\n",
       "      <td>2019-11-06</td>\n",
       "      <td>600.00</td>\n",
       "      <td>0.0</td>\n",
       "      <td>0.00</td>\n",
       "      <td>ANCHOR</td>\n",
       "      <td>MEDICARE</td>\n",
       "      <td>OUTPATIENT</td>\n",
       "      <td>2021-03-19 09:38:34</td>\n",
       "      <td>2021-03-19 10:55:50</td>\n",
       "      <td>2021-03-19 10:58:02</td>\n",
       "      <td>DR09451Z4</td>\n",
       "      <td>C10004</td>\n",
       "      <td>600.00</td>\n",
       "    </tr>\n",
       "    <tr>\n",
       "      <th>4</th>\n",
       "      <td>2019-11-01</td>\n",
       "      <td>591.60</td>\n",
       "      <td>0.0</td>\n",
       "      <td>12.00</td>\n",
       "      <td>ANCHOR</td>\n",
       "      <td>INSURANCE</td>\n",
       "      <td>OUTPATIENT</td>\n",
       "      <td>2021-03-19 11:16:21</td>\n",
       "      <td>2021-03-19 12:06:49</td>\n",
       "      <td>2021-03-19 12:06:54</td>\n",
       "      <td>DR15154H4</td>\n",
       "      <td>C10005</td>\n",
       "      <td>603.60</td>\n",
       "    </tr>\n",
       "  </tbody>\n",
       "</table>\n",
       "</div>"
      ],
      "text/plain": [
       "        Date  Medication Revenue  Lab Cost  Consultation Revenue Doctor Type  \\\n",
       "0 2019-11-04             1183.22      10.0                 20.17      ANCHOR   \n",
       "1 2019-11-06              738.48       0.0                 15.00      ANCHOR   \n",
       "2 2019-11-02              660.00       0.0                 21.17      ANCHOR   \n",
       "3 2019-11-06              600.00       0.0                  0.00      ANCHOR   \n",
       "4 2019-11-01              591.60       0.0                 12.00      ANCHOR   \n",
       "\n",
       "  Financial Class Patient Type          Entry Time Post-Consultation Time  \\\n",
       "0             HMO   OUTPATIENT 2021-03-19 08:35:45    2021-03-19 09:17:54   \n",
       "1       INSURANCE   OUTPATIENT 2021-03-19 19:19:16    2021-03-19 21:02:36   \n",
       "2             HMO   OUTPATIENT 2021-03-19 10:46:52    2021-03-19 11:56:25   \n",
       "3        MEDICARE   OUTPATIENT 2021-03-19 09:38:34    2021-03-19 10:55:50   \n",
       "4       INSURANCE   OUTPATIENT 2021-03-19 11:16:21    2021-03-19 12:06:49   \n",
       "\n",
       "      Completion Time     Doctor Patient ID  Total Revenue  \n",
       "0 2021-03-19 09:29:46  DR05350C4     C10001        1213.39  \n",
       "1 2021-03-19 21:24:07  DR09451Z4     C10002         753.48  \n",
       "2 2021-03-19 12:06:28  DR17400I4     C10003         681.17  \n",
       "3 2021-03-19 10:58:02  DR09451Z4     C10004         600.00  \n",
       "4 2021-03-19 12:06:54  DR15154H4     C10005         603.60  "
      ]
     },
     "execution_count": 121,
     "metadata": {},
     "output_type": "execute_result"
    }
   ],
   "source": [
    "df.head()"
   ]
  },
  {
   "cell_type": "markdown",
   "metadata": {},
   "source": [
    "**What Time Has The Most Visitors**"
   ]
  },
  {
   "cell_type": "code",
   "execution_count": 122,
   "metadata": {},
   "outputs": [
    {
     "data": {
      "text/html": [
       "<div>\n",
       "<style scoped>\n",
       "    .dataframe tbody tr th:only-of-type {\n",
       "        vertical-align: middle;\n",
       "    }\n",
       "\n",
       "    .dataframe tbody tr th {\n",
       "        vertical-align: top;\n",
       "    }\n",
       "\n",
       "    .dataframe thead th {\n",
       "        text-align: right;\n",
       "    }\n",
       "</style>\n",
       "<table border=\"1\" class=\"dataframe\">\n",
       "  <thead>\n",
       "    <tr style=\"text-align: right;\">\n",
       "      <th></th>\n",
       "      <th>Date</th>\n",
       "      <th>Medication Revenue</th>\n",
       "      <th>Lab Cost</th>\n",
       "      <th>Consultation Revenue</th>\n",
       "      <th>Doctor Type</th>\n",
       "      <th>Financial Class</th>\n",
       "      <th>Patient Type</th>\n",
       "      <th>Entry Time</th>\n",
       "      <th>Post-Consultation Time</th>\n",
       "      <th>Completion Time</th>\n",
       "      <th>Doctor</th>\n",
       "      <th>Patient ID</th>\n",
       "      <th>Total Revenue</th>\n",
       "      <th>Entry Hour</th>\n",
       "    </tr>\n",
       "  </thead>\n",
       "  <tbody>\n",
       "    <tr>\n",
       "      <th>0</th>\n",
       "      <td>2019-11-04</td>\n",
       "      <td>1183.22</td>\n",
       "      <td>10.0</td>\n",
       "      <td>20.17</td>\n",
       "      <td>ANCHOR</td>\n",
       "      <td>HMO</td>\n",
       "      <td>OUTPATIENT</td>\n",
       "      <td>2021-03-19 08:35:45</td>\n",
       "      <td>2021-03-19 09:17:54</td>\n",
       "      <td>2021-03-19 09:29:46</td>\n",
       "      <td>DR05350C4</td>\n",
       "      <td>C10001</td>\n",
       "      <td>1213.39</td>\n",
       "      <td>8</td>\n",
       "    </tr>\n",
       "    <tr>\n",
       "      <th>1</th>\n",
       "      <td>2019-11-06</td>\n",
       "      <td>738.48</td>\n",
       "      <td>0.0</td>\n",
       "      <td>15.00</td>\n",
       "      <td>ANCHOR</td>\n",
       "      <td>INSURANCE</td>\n",
       "      <td>OUTPATIENT</td>\n",
       "      <td>2021-03-19 19:19:16</td>\n",
       "      <td>2021-03-19 21:02:36</td>\n",
       "      <td>2021-03-19 21:24:07</td>\n",
       "      <td>DR09451Z4</td>\n",
       "      <td>C10002</td>\n",
       "      <td>753.48</td>\n",
       "      <td>19</td>\n",
       "    </tr>\n",
       "    <tr>\n",
       "      <th>2</th>\n",
       "      <td>2019-11-02</td>\n",
       "      <td>660.00</td>\n",
       "      <td>0.0</td>\n",
       "      <td>21.17</td>\n",
       "      <td>ANCHOR</td>\n",
       "      <td>HMO</td>\n",
       "      <td>OUTPATIENT</td>\n",
       "      <td>2021-03-19 10:46:52</td>\n",
       "      <td>2021-03-19 11:56:25</td>\n",
       "      <td>2021-03-19 12:06:28</td>\n",
       "      <td>DR17400I4</td>\n",
       "      <td>C10003</td>\n",
       "      <td>681.17</td>\n",
       "      <td>10</td>\n",
       "    </tr>\n",
       "    <tr>\n",
       "      <th>3</th>\n",
       "      <td>2019-11-06</td>\n",
       "      <td>600.00</td>\n",
       "      <td>0.0</td>\n",
       "      <td>0.00</td>\n",
       "      <td>ANCHOR</td>\n",
       "      <td>MEDICARE</td>\n",
       "      <td>OUTPATIENT</td>\n",
       "      <td>2021-03-19 09:38:34</td>\n",
       "      <td>2021-03-19 10:55:50</td>\n",
       "      <td>2021-03-19 10:58:02</td>\n",
       "      <td>DR09451Z4</td>\n",
       "      <td>C10004</td>\n",
       "      <td>600.00</td>\n",
       "      <td>9</td>\n",
       "    </tr>\n",
       "    <tr>\n",
       "      <th>4</th>\n",
       "      <td>2019-11-01</td>\n",
       "      <td>591.60</td>\n",
       "      <td>0.0</td>\n",
       "      <td>12.00</td>\n",
       "      <td>ANCHOR</td>\n",
       "      <td>INSURANCE</td>\n",
       "      <td>OUTPATIENT</td>\n",
       "      <td>2021-03-19 11:16:21</td>\n",
       "      <td>2021-03-19 12:06:49</td>\n",
       "      <td>2021-03-19 12:06:54</td>\n",
       "      <td>DR15154H4</td>\n",
       "      <td>C10005</td>\n",
       "      <td>603.60</td>\n",
       "      <td>11</td>\n",
       "    </tr>\n",
       "  </tbody>\n",
       "</table>\n",
       "</div>"
      ],
      "text/plain": [
       "        Date  Medication Revenue  Lab Cost  Consultation Revenue Doctor Type  \\\n",
       "0 2019-11-04             1183.22      10.0                 20.17      ANCHOR   \n",
       "1 2019-11-06              738.48       0.0                 15.00      ANCHOR   \n",
       "2 2019-11-02              660.00       0.0                 21.17      ANCHOR   \n",
       "3 2019-11-06              600.00       0.0                  0.00      ANCHOR   \n",
       "4 2019-11-01              591.60       0.0                 12.00      ANCHOR   \n",
       "\n",
       "  Financial Class Patient Type          Entry Time Post-Consultation Time  \\\n",
       "0             HMO   OUTPATIENT 2021-03-19 08:35:45    2021-03-19 09:17:54   \n",
       "1       INSURANCE   OUTPATIENT 2021-03-19 19:19:16    2021-03-19 21:02:36   \n",
       "2             HMO   OUTPATIENT 2021-03-19 10:46:52    2021-03-19 11:56:25   \n",
       "3        MEDICARE   OUTPATIENT 2021-03-19 09:38:34    2021-03-19 10:55:50   \n",
       "4       INSURANCE   OUTPATIENT 2021-03-19 11:16:21    2021-03-19 12:06:49   \n",
       "\n",
       "      Completion Time     Doctor Patient ID  Total Revenue  Entry Hour  \n",
       "0 2021-03-19 09:29:46  DR05350C4     C10001        1213.39           8  \n",
       "1 2021-03-19 21:24:07  DR09451Z4     C10002         753.48          19  \n",
       "2 2021-03-19 12:06:28  DR17400I4     C10003         681.17          10  \n",
       "3 2021-03-19 10:58:02  DR09451Z4     C10004         600.00           9  \n",
       "4 2021-03-19 12:06:54  DR15154H4     C10005         603.60          11  "
      ]
     },
     "execution_count": 122,
     "metadata": {},
     "output_type": "execute_result"
    }
   ],
   "source": [
    "df['Entry Hour'] = df['Entry Time'].dt.hour\n",
    "df.head()"
   ]
  },
  {
   "cell_type": "code",
   "execution_count": 133,
   "metadata": {},
   "outputs": [],
   "source": [
    "entryGrouping = df.groupby('Entry Hour')['Patient ID'].count()"
   ]
  },
  {
   "cell_type": "code",
   "execution_count": 137,
   "metadata": {},
   "outputs": [
    {
     "data": {
      "text/plain": [
       "<AxesSubplot:xlabel='Entry Hour'>"
      ]
     },
     "execution_count": 137,
     "metadata": {},
     "output_type": "execute_result"
    },
    {
     "data": {
      "image/png": "[encoded data removed]",
      "text/plain": [
       "<Figure size 432x288 with 1 Axes>"
      ]
     },
     "metadata": {},
     "output_type": "display_data"
    }
   ],
   "source": [
    "plt.style.use('ggplot')\n",
    "entryGrouping.plot()"
   ]
  },
  {
   "cell_type": "markdown",
   "metadata": {},
   "source": [
    "**Does the Total Revenue correlate with the total visitors**"
   ]
  },
  {
   "cell_type": "code",
   "execution_count": 141,
   "metadata": {},
   "outputs": [
    {
     "data": {
      "image/png": "[encoded data removed]",
      "text/plain": [
       "<Figure size 432x288 with 1 Axes>"
      ]
     },
     "metadata": {},
     "output_type": "display_data"
    }
   ],
   "source": [
    "revenueGrouping = df.groupby('Entry Hour')['Total Revenue'].sum().plot()"
   ]
  },
  {
   "cell_type": "code",
   "execution_count": 144,
   "metadata": {},
   "outputs": [],
   "source": [
    "pivot1 = df.groupby(df['Entry Hour']).sum()\n",
    "pivot2 = df.groupby(df['Entry Hour']).count()\n",
    "merger = pivot1.merge(pivot2, on='Entry Hour')"
   ]
  },
  {
   "cell_type": "code",
   "execution_count": 145,
   "metadata": {},
   "outputs": [
    {
     "data": {
      "text/html": [
       "<div>\n",
       "<style scoped>\n",
       "    .dataframe tbody tr th:only-of-type {\n",
       "        vertical-align: middle;\n",
       "    }\n",
       "\n",
       "    .dataframe tbody tr th {\n",
       "        vertical-align: top;\n",
       "    }\n",
       "\n",
       "    .dataframe thead th {\n",
       "        text-align: right;\n",
       "    }\n",
       "</style>\n",
       "<table border=\"1\" class=\"dataframe\">\n",
       "  <thead>\n",
       "    <tr style=\"text-align: right;\">\n",
       "      <th></th>\n",
       "      <th>Medication Revenue_x</th>\n",
       "      <th>Lab Cost_x</th>\n",
       "      <th>Consultation Revenue_x</th>\n",
       "      <th>Total Revenue_x</th>\n",
       "      <th>Date</th>\n",
       "      <th>Medication Revenue_y</th>\n",
       "      <th>Lab Cost_y</th>\n",
       "      <th>Consultation Revenue_y</th>\n",
       "      <th>Doctor Type</th>\n",
       "      <th>Financial Class</th>\n",
       "      <th>Patient Type</th>\n",
       "      <th>Entry Time</th>\n",
       "      <th>Post-Consultation Time</th>\n",
       "      <th>Completion Time</th>\n",
       "      <th>Doctor</th>\n",
       "      <th>Patient ID</th>\n",
       "      <th>Total Revenue_y</th>\n",
       "    </tr>\n",
       "    <tr>\n",
       "      <th>Entry Hour</th>\n",
       "      <th></th>\n",
       "      <th></th>\n",
       "      <th></th>\n",
       "      <th></th>\n",
       "      <th></th>\n",
       "      <th></th>\n",
       "      <th></th>\n",
       "      <th></th>\n",
       "      <th></th>\n",
       "      <th></th>\n",
       "      <th></th>\n",
       "      <th></th>\n",
       "      <th></th>\n",
       "      <th></th>\n",
       "      <th></th>\n",
       "      <th></th>\n",
       "      <th></th>\n",
       "    </tr>\n",
       "  </thead>\n",
       "  <tbody>\n",
       "    <tr>\n",
       "      <th>7</th>\n",
       "      <td>350.66</td>\n",
       "      <td>520.00</td>\n",
       "      <td>198.63</td>\n",
       "      <td>1069.29</td>\n",
       "      <td>12</td>\n",
       "      <td>12</td>\n",
       "      <td>12</td>\n",
       "      <td>12</td>\n",
       "      <td>12</td>\n",
       "      <td>12</td>\n",
       "      <td>12</td>\n",
       "      <td>12</td>\n",
       "      <td>12</td>\n",
       "      <td>12</td>\n",
       "      <td>12</td>\n",
       "      <td>12</td>\n",
       "      <td>12</td>\n",
       "    </tr>\n",
       "    <tr>\n",
       "      <th>8</th>\n",
       "      <td>83404.62</td>\n",
       "      <td>22475.27</td>\n",
       "      <td>51180.15</td>\n",
       "      <td>157060.04</td>\n",
       "      <td>3489</td>\n",
       "      <td>3489</td>\n",
       "      <td>3489</td>\n",
       "      <td>3489</td>\n",
       "      <td>3489</td>\n",
       "      <td>3489</td>\n",
       "      <td>3489</td>\n",
       "      <td>3489</td>\n",
       "      <td>3489</td>\n",
       "      <td>3489</td>\n",
       "      <td>3489</td>\n",
       "      <td>3489</td>\n",
       "      <td>3489</td>\n",
       "    </tr>\n",
       "    <tr>\n",
       "      <th>9</th>\n",
       "      <td>96195.61</td>\n",
       "      <td>14879.28</td>\n",
       "      <td>60216.56</td>\n",
       "      <td>171291.45</td>\n",
       "      <td>4297</td>\n",
       "      <td>4297</td>\n",
       "      <td>4297</td>\n",
       "      <td>4297</td>\n",
       "      <td>4297</td>\n",
       "      <td>4297</td>\n",
       "      <td>4297</td>\n",
       "      <td>4297</td>\n",
       "      <td>4297</td>\n",
       "      <td>4297</td>\n",
       "      <td>4297</td>\n",
       "      <td>4297</td>\n",
       "      <td>4297</td>\n",
       "    </tr>\n",
       "    <tr>\n",
       "      <th>10</th>\n",
       "      <td>75239.66</td>\n",
       "      <td>6688.98</td>\n",
       "      <td>52072.67</td>\n",
       "      <td>134001.31</td>\n",
       "      <td>3680</td>\n",
       "      <td>3680</td>\n",
       "      <td>3680</td>\n",
       "      <td>3680</td>\n",
       "      <td>3680</td>\n",
       "      <td>3680</td>\n",
       "      <td>3680</td>\n",
       "      <td>3680</td>\n",
       "      <td>3680</td>\n",
       "      <td>3680</td>\n",
       "      <td>3680</td>\n",
       "      <td>3680</td>\n",
       "      <td>3680</td>\n",
       "    </tr>\n",
       "    <tr>\n",
       "      <th>11</th>\n",
       "      <td>72675.83</td>\n",
       "      <td>6860.23</td>\n",
       "      <td>48192.03</td>\n",
       "      <td>127728.09</td>\n",
       "      <td>3306</td>\n",
       "      <td>3306</td>\n",
       "      <td>3306</td>\n",
       "      <td>3306</td>\n",
       "      <td>3306</td>\n",
       "      <td>3306</td>\n",
       "      <td>3306</td>\n",
       "      <td>3306</td>\n",
       "      <td>3306</td>\n",
       "      <td>3306</td>\n",
       "      <td>3306</td>\n",
       "      <td>3306</td>\n",
       "      <td>3306</td>\n",
       "    </tr>\n",
       "  </tbody>\n",
       "</table>\n",
       "</div>"
      ],
      "text/plain": [
       "            Medication Revenue_x  Lab Cost_x  Consultation Revenue_x  \\\n",
       "Entry Hour                                                             \n",
       "7                         350.66      520.00                  198.63   \n",
       "8                       83404.62    22475.27                51180.15   \n",
       "9                       96195.61    14879.28                60216.56   \n",
       "10                      75239.66     6688.98                52072.67   \n",
       "11                      72675.83     6860.23                48192.03   \n",
       "\n",
       "            Total Revenue_x  Date  Medication Revenue_y  Lab Cost_y  \\\n",
       "Entry Hour                                                            \n",
       "7                   1069.29    12                    12          12   \n",
       "8                 157060.04  3489                  3489        3489   \n",
       "9                 171291.45  4297                  4297        4297   \n",
       "10                134001.31  3680                  3680        3680   \n",
       "11                127728.09  3306                  3306        3306   \n",
       "\n",
       "            Consultation Revenue_y  Doctor Type  Financial Class  \\\n",
       "Entry Hour                                                         \n",
       "7                               12           12               12   \n",
       "8                             3489         3489             3489   \n",
       "9                             4297         4297             4297   \n",
       "10                            3680         3680             3680   \n",
       "11                            3306         3306             3306   \n",
       "\n",
       "            Patient Type  Entry Time  Post-Consultation Time  Completion Time  \\\n",
       "Entry Hour                                                                      \n",
       "7                     12          12                      12               12   \n",
       "8                   3489        3489                    3489             3489   \n",
       "9                   4297        4297                    4297             4297   \n",
       "10                  3680        3680                    3680             3680   \n",
       "11                  3306        3306                    3306             3306   \n",
       "\n",
       "            Doctor  Patient ID  Total Revenue_y  \n",
       "Entry Hour                                       \n",
       "7               12          12               12  \n",
       "8             3489        3489             3489  \n",
       "9             4297        4297             4297  \n",
       "10            3680        3680             3680  \n",
       "11            3306        3306             3306  "
      ]
     },
     "execution_count": 145,
     "metadata": {},
     "output_type": "execute_result"
    }
   ],
   "source": [
    "merger.head()"
   ]
  },
  {
   "cell_type": "code",
   "execution_count": 151,
   "metadata": {},
   "outputs": [
    {
     "data": {
      "text/plain": [
       "[<matplotlib.lines.Line2D at 0x7f93db4fb130>]"
      ]
     },
     "execution_count": 151,
     "metadata": {},
     "output_type": "execute_result"
    },
    {
     "data": {
      "image/png": "[encoded data removed]",
      "text/plain": [
       "<Figure size 432x288 with 2 Axes>"
      ]
     },
     "metadata": {},
     "output_type": "display_data"
    }
   ],
   "source": [
    "fig ,ax1 = plt.subplots()\n",
    "ax2 = ax1.twinx()\n",
    "ax1.bar(merger.index,merger['Total Revenue_x'])\n",
    "ax1.plot(merger.index,merger['Patient ID'],color='blue')"
   ]
  },
  {
   "cell_type": "code",
   "execution_count": 150,
   "metadata": {},
   "outputs": [
    {
     "data": {
      "text/plain": [
       "[<matplotlib.lines.Line2D at 0x7f93db3e1e80>]"
      ]
     },
     "execution_count": 150,
     "metadata": {},
     "output_type": "execute_result"
    }
   ],
   "source": []
  },
  {
   "cell_type": "code",
   "execution_count": 155,
   "metadata": {},
   "outputs": [
    {
     "data": {
      "text/html": [
       "<div>\n",
       "<style scoped>\n",
       "    .dataframe tbody tr th:only-of-type {\n",
       "        vertical-align: middle;\n",
       "    }\n",
       "\n",
       "    .dataframe tbody tr th {\n",
       "        vertical-align: top;\n",
       "    }\n",
       "\n",
       "    .dataframe thead th {\n",
       "        text-align: right;\n",
       "    }\n",
       "</style>\n",
       "<table border=\"1\" class=\"dataframe\">\n",
       "  <thead>\n",
       "    <tr style=\"text-align: right;\">\n",
       "      <th></th>\n",
       "      <th>Medication Revenue</th>\n",
       "      <th>Lab Cost</th>\n",
       "      <th>Consultation Revenue</th>\n",
       "      <th>Total Revenue</th>\n",
       "      <th>Entry Hour</th>\n",
       "    </tr>\n",
       "  </thead>\n",
       "  <tbody>\n",
       "    <tr>\n",
       "      <th>count</th>\n",
       "      <td>29999.000000</td>\n",
       "      <td>29999.000000</td>\n",
       "      <td>29999.000000</td>\n",
       "      <td>29999.000000</td>\n",
       "      <td>29999.000000</td>\n",
       "    </tr>\n",
       "    <tr>\n",
       "      <th>mean</th>\n",
       "      <td>20.636023</td>\n",
       "      <td>2.229082</td>\n",
       "      <td>15.267733</td>\n",
       "      <td>38.132838</td>\n",
       "      <td>13.004533</td>\n",
       "    </tr>\n",
       "    <tr>\n",
       "      <th>std</th>\n",
       "      <td>33.250707</td>\n",
       "      <td>14.690394</td>\n",
       "      <td>10.454275</td>\n",
       "      <td>37.463327</td>\n",
       "      <td>4.071030</td>\n",
       "    </tr>\n",
       "    <tr>\n",
       "      <th>min</th>\n",
       "      <td>0.000000</td>\n",
       "      <td>0.000000</td>\n",
       "      <td>0.000000</td>\n",
       "      <td>0.000000</td>\n",
       "      <td>7.000000</td>\n",
       "    </tr>\n",
       "    <tr>\n",
       "      <th>25%</th>\n",
       "      <td>0.000000</td>\n",
       "      <td>0.000000</td>\n",
       "      <td>10.000000</td>\n",
       "      <td>23.370000</td>\n",
       "      <td>9.000000</td>\n",
       "    </tr>\n",
       "    <tr>\n",
       "      <th>50%</th>\n",
       "      <td>13.600000</td>\n",
       "      <td>0.000000</td>\n",
       "      <td>13.000000</td>\n",
       "      <td>32.000000</td>\n",
       "      <td>12.000000</td>\n",
       "    </tr>\n",
       "    <tr>\n",
       "      <th>75%</th>\n",
       "      <td>29.400000</td>\n",
       "      <td>0.000000</td>\n",
       "      <td>23.040000</td>\n",
       "      <td>47.400000</td>\n",
       "      <td>16.000000</td>\n",
       "    </tr>\n",
       "    <tr>\n",
       "      <th>max</th>\n",
       "      <td>1183.220000</td>\n",
       "      <td>520.000000</td>\n",
       "      <td>120.000000</td>\n",
       "      <td>1213.390000</td>\n",
       "      <td>23.000000</td>\n",
       "    </tr>\n",
       "  </tbody>\n",
       "</table>\n",
       "</div>"
      ],
      "text/plain": [
       "       Medication Revenue      Lab Cost  Consultation Revenue  Total Revenue  \\\n",
       "count        29999.000000  29999.000000          29999.000000   29999.000000   \n",
       "mean            20.636023      2.229082             15.267733      38.132838   \n",
       "std             33.250707     14.690394             10.454275      37.463327   \n",
       "min              0.000000      0.000000              0.000000       0.000000   \n",
       "25%              0.000000      0.000000             10.000000      23.370000   \n",
       "50%             13.600000      0.000000             13.000000      32.000000   \n",
       "75%             29.400000      0.000000             23.040000      47.400000   \n",
       "max           1183.220000    520.000000            120.000000    1213.390000   \n",
       "\n",
       "         Entry Hour  \n",
       "count  29999.000000  \n",
       "mean      13.004533  \n",
       "std        4.071030  \n",
       "min        7.000000  \n",
       "25%        9.000000  \n",
       "50%       12.000000  \n",
       "75%       16.000000  \n",
       "max       23.000000  "
      ]
     },
     "execution_count": 155,
     "metadata": {},
     "output_type": "execute_result"
    }
   ],
   "source": [
    "df.describe()"
   ]
  },
  {
   "cell_type": "markdown",
   "metadata": {},
   "source": [
    "# What percentage of revenue comes from different insurance types"
   ]
  },
  {
   "cell_type": "code",
   "execution_count": 158,
   "metadata": {},
   "outputs": [],
   "source": [
    "insuregroup = df.groupby(df['Financial Class'])['Total Revenue'].sum()"
   ]
  },
  {
   "cell_type": "code",
   "execution_count": 159,
   "metadata": {},
   "outputs": [
    {
     "data": {
      "text/plain": [
       "Financial Class\n",
       "CORPORATE    255660.08\n",
       "HMO          215925.07\n",
       "INSURANCE    461539.69\n",
       "MEDICARE      24539.28\n",
       "PRIVATE      186282.88\n",
       "Name: Total Revenue, dtype: float64"
      ]
     },
     "execution_count": 159,
     "metadata": {},
     "output_type": "execute_result"
    }
   ],
   "source": [
    "insuregroup"
   ]
  },
  {
   "cell_type": "code",
   "execution_count": 168,
   "metadata": {},
   "outputs": [
    {
     "data": {
      "image/png": "[encoded data removed]",
      "text/plain": [
       "<Figure size 432x288 with 1 Axes>"
      ]
     },
     "metadata": {},
     "output_type": "display_data"
    }
   ],
   "source": [
    "plt.pie(insuregroup,labels=insuregroup.index,autopct='%1.1f%%');"
   ]
  },
  {
   "cell_type": "code",
   "execution_count": null,
   "metadata": {},
   "outputs": [],
   "source": []
  },
  {
   "cell_type": "code",
   "execution_count": null,
   "metadata": {},
   "outputs": [],
   "source": []
  }
 ],
 "metadata": {
  "kernelspec": {
   "display_name": "Python 3",
   "language": "python",
   "name": "python3"
  },
  "language_info": {
   "codemirror_mode": {
    "name": "ipython",
    "version": 3
   },
   "file_extension": ".py",
   "mimetype": "text/x-python",
   "name": "python",
   "nbconvert_exporter": "python",
   "pygments_lexer": "ipython3",
   "version": "3.8.5"
  }
 },
 "nbformat": 4,
 "nbformat_minor": 4
}
